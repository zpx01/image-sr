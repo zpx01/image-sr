{
 "cells": [
  {
   "cell_type": "code",
   "execution_count": 1,
   "id": "33479fef",
   "metadata": {},
   "outputs": [
    {
     "name": "stderr",
     "output_type": "stream",
     "text": [
      "/home/yossi_gandelsman/anaconda3/envs/image-sr/lib/python3.9/site-packages/tqdm/auto.py:22: TqdmWarning: IProgress not found. Please update jupyter and ipywidgets. See https://ipywidgets.readthedocs.io/en/stable/user_install.html\n",
      "  from .autonotebook import tqdm as notebook_tqdm\n"
     ]
    }
   ],
   "source": [
    "import numpy as np\n",
    "import os.path\n",
    "import matplotlib.pyplot as plt\n",
    "import PIL.Image as Image\n",
    "import sys\n",
    "sys.path.append('../')\n",
    "from data_loader import *"
   ]
  },
  {
   "cell_type": "code",
   "execution_count": 2,
   "id": "8264725f",
   "metadata": {},
   "outputs": [],
   "source": [
    "HR_images = '/old_home_that_will_be_deleted_at_some_point/yossi_gandelsman/datasets/SR/trainsets/trainValidH/DIV2K_valid_HR/'\n",
    "LR_images = '/old_home_that_will_be_deleted_at_some_point/yossi_gandelsman/datasets/SR/trainsets/trainValidL/DIV2K_valid_LR_bicubic/X4/'\n",
    "ORIG_results = '/old_home_that_will_be_deleted_at_some_point/yossi_gandelsman/datasets/SR/results/val/swinir_classical_sr_x4_12_6_22_orig/'\n",
    "TTT_results = '/old_home_that_will_be_deleted_at_some_point/yossi_gandelsman/datasets/SR/results/val/swinir_classical_sr_x4_12_6_22_ttt/'"
   ]
  },
  {
   "cell_type": "code",
   "execution_count": 11,
   "id": "0ef7f19d",
   "metadata": {},
   "outputs": [],
   "source": [
    "import torch\n",
    "dlc = DataLoaderClassification(HR_images, ORIG_results, TTT_results, threshold=20)"
   ]
  },
  {
   "cell_type": "code",
   "execution_count": 14,
   "id": "f5e1ffa4",
   "metadata": {},
   "outputs": [
    {
     "name": "stdout",
     "output_type": "stream",
     "text": [
      "tensor(78.)\n",
      "tensor(159.)\n"
     ]
    }
   ],
   "source": [
    "v = dlc[1]\n",
    "print(torch.sum(v[2]))\n",
    "print(torch.sum(v[3]))"
   ]
  },
  {
   "cell_type": "code",
   "execution_count": 5,
   "id": "06edba0b",
   "metadata": {},
   "outputs": [
    {
     "name": "stdout",
     "output_type": "stream",
     "text": [
      "ls: cannot access '/old_home_that_will_be_deleted_at_some_point/yossi_gandelsman/datasets/SR/results/swinir_classical_sr_x4_12_6_22_orig/': No such file or directory\r\n"
     ]
    }
   ],
   "source": [
    "!ls /old_home_that_will_be_deleted_at_some_point/yossi_gandelsman/datasets/SR/results/swinir_classical_sr_x4_12_6_22_orig/"
   ]
  },
  {
   "cell_type": "code",
   "execution_count": null,
   "id": "00426dc1",
   "metadata": {},
   "outputs": [],
   "source": []
  }
 ],
 "metadata": {
  "kernelspec": {
   "display_name": "Python 3 (ipykernel)",
   "language": "python",
   "name": "python3"
  },
  "language_info": {
   "codemirror_mode": {
    "name": "ipython",
    "version": 3
   },
   "file_extension": ".py",
   "mimetype": "text/x-python",
   "name": "python",
   "nbconvert_exporter": "python",
   "pygments_lexer": "ipython3",
   "version": "3.9.12"
  }
 },
 "nbformat": 4,
 "nbformat_minor": 5
}
