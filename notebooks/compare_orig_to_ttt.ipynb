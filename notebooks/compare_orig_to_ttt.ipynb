{
 "cells": [
  {
   "cell_type": "code",
   "execution_count": 1,
   "id": "cf8e20ce",
   "metadata": {},
   "outputs": [],
   "source": [
    "import numpy as np\n",
    "import os.path\n",
    "import matplotlib.pyplot as plt\n",
    "import PIL.Image as Image\n",
    "import sys\n",
    "sys.path.append('../')"
   ]
  },
  {
   "cell_type": "code",
   "execution_count": 2,
   "id": "7fe86ff3",
   "metadata": {},
   "outputs": [],
   "source": [
    "HR_images = '/old_home_that_will_be_deleted_at_some_point/yossi_gandelsman/datasets/SR/trainsets/trainValidH/DIV2K_valid_HR/'\n",
    "LR_images = '/old_home_that_will_be_deleted_at_some_point/yossi_gandelsman/datasets/SR/trainsets/trainValidL/DIV2K_valid_LR_bicubic/X4/'\n",
    "ORIG_results = '/old_home_that_will_be_deleted_at_some_point/yossi_gandelsman/datasets/SR/results/swinir_classical_sr_x4_12_6_22_orig/'\n",
    "TTT_results = '/old_home_that_will_be_deleted_at_some_point/yossi_gandelsman/datasets/SR/results/swinir_classical_sr_x4_12_6_22_ttt/'"
   ]
  },
  {
   "cell_type": "code",
   "execution_count": 3,
   "id": "432d023a",
   "metadata": {},
   "outputs": [],
   "source": [
    "hr_image_name = '0822'\n",
    "ttt_image_name = f'{hr_image_name}_12_6_22_ttt_ttt.png'\n",
    "orig_image_name = ttt_image_name.replace('ttt', 'orig')\n",
    "hr_image_name = hr_image_name + '.png'"
   ]
  },
  {
   "cell_type": "code",
   "execution_count": 4,
   "id": "955dc244",
   "metadata": {},
   "outputs": [
    {
     "ename": "FileNotFoundError",
     "evalue": "[Errno 2] No such file or directory: '/old_home_that_will_be_deleted_at_some_point/yossi_gandelsman/datasets/SR/results/swinir_classical_sr_x4_12_6_22_ttt/0822_12_6_22_ttt_ttt.png'",
     "output_type": "error",
     "traceback": [
      "\u001b[0;31m---------------------------------------------------------------------------\u001b[0m",
      "\u001b[0;31mFileNotFoundError\u001b[0m                         Traceback (most recent call last)",
      "Cell \u001b[0;32mIn[4], line 2\u001b[0m\n\u001b[1;32m      1\u001b[0m hr_image \u001b[38;5;241m=\u001b[39m np\u001b[38;5;241m.\u001b[39marray(Image\u001b[38;5;241m.\u001b[39mopen(os\u001b[38;5;241m.\u001b[39mpath\u001b[38;5;241m.\u001b[39mjoin(HR_images, hr_image_name)))\n\u001b[0;32m----> 2\u001b[0m ttt_image \u001b[38;5;241m=\u001b[39m np\u001b[38;5;241m.\u001b[39marray(\u001b[43mImage\u001b[49m\u001b[38;5;241;43m.\u001b[39;49m\u001b[43mopen\u001b[49m\u001b[43m(\u001b[49m\u001b[43mos\u001b[49m\u001b[38;5;241;43m.\u001b[39;49m\u001b[43mpath\u001b[49m\u001b[38;5;241;43m.\u001b[39;49m\u001b[43mjoin\u001b[49m\u001b[43m(\u001b[49m\u001b[43mTTT_results\u001b[49m\u001b[43m,\u001b[49m\u001b[43m \u001b[49m\u001b[43mttt_image_name\u001b[49m\u001b[43m)\u001b[49m\u001b[43m)\u001b[49m)\n\u001b[1;32m      3\u001b[0m orig_image \u001b[38;5;241m=\u001b[39m np\u001b[38;5;241m.\u001b[39marray(Image\u001b[38;5;241m.\u001b[39mopen(os\u001b[38;5;241m.\u001b[39mpath\u001b[38;5;241m.\u001b[39mjoin(ORIG_results, orig_image_name)))\n\u001b[1;32m      4\u001b[0m plt\u001b[38;5;241m.\u001b[39mimshow(hr_image)\n",
      "File \u001b[0;32m~/anaconda3/envs/image-sr/lib/python3.9/site-packages/PIL/Image.py:3131\u001b[0m, in \u001b[0;36mopen\u001b[0;34m(fp, mode, formats)\u001b[0m\n\u001b[1;32m   3128\u001b[0m     filename \u001b[38;5;241m=\u001b[39m fp\n\u001b[1;32m   3130\u001b[0m \u001b[38;5;28;01mif\u001b[39;00m filename:\n\u001b[0;32m-> 3131\u001b[0m     fp \u001b[38;5;241m=\u001b[39m \u001b[43mbuiltins\u001b[49m\u001b[38;5;241;43m.\u001b[39;49m\u001b[43mopen\u001b[49m\u001b[43m(\u001b[49m\u001b[43mfilename\u001b[49m\u001b[43m,\u001b[49m\u001b[43m \u001b[49m\u001b[38;5;124;43m\"\u001b[39;49m\u001b[38;5;124;43mrb\u001b[39;49m\u001b[38;5;124;43m\"\u001b[39;49m\u001b[43m)\u001b[49m\n\u001b[1;32m   3132\u001b[0m     exclusive_fp \u001b[38;5;241m=\u001b[39m \u001b[38;5;28;01mTrue\u001b[39;00m\n\u001b[1;32m   3134\u001b[0m \u001b[38;5;28;01mtry\u001b[39;00m:\n",
      "\u001b[0;31mFileNotFoundError\u001b[0m: [Errno 2] No such file or directory: '/old_home_that_will_be_deleted_at_some_point/yossi_gandelsman/datasets/SR/results/swinir_classical_sr_x4_12_6_22_ttt/0822_12_6_22_ttt_ttt.png'"
     ]
    }
   ],
   "source": [
    "hr_image = np.array(Image.open(os.path.join(HR_images, hr_image_name)))\n",
    "ttt_image = np.array(Image.open(os.path.join(TTT_results, ttt_image_name)))\n",
    "orig_image = np.array(Image.open(os.path.join(ORIG_results, orig_image_name)))\n",
    "plt.imshow(hr_image)"
   ]
  },
  {
   "cell_type": "code",
   "execution_count": null,
   "id": "5caff8c1",
   "metadata": {},
   "outputs": [],
   "source": [
    "distance_ttt = np.mean((hr_image - ttt_image) ** 2, axis=2)\n",
    "distance_orig = np.mean((hr_image - orig_image) ** 2, axis=2)\n",
    "plt.imshow(distance_ttt)\n",
    "plt.colorbar()\n",
    "plt.show()\n",
    "plt.imshow(distance_orig)\n",
    "plt.colorbar()\n",
    "plt.show()"
   ]
  },
  {
   "cell_type": "code",
   "execution_count": null,
   "id": "5eb9cb75",
   "metadata": {},
   "outputs": [],
   "source": [
    "interval = 50\n",
    "mask = np.ones_like(distance_orig) * 127.5\n",
    "mask[distance_ttt < distance_orig - interval] = 255\n",
    "mask[distance_orig < distance_ttt - interval] = 0\n",
    "plt.imshow(mask)"
   ]
  },
  {
   "cell_type": "code",
   "execution_count": null,
   "id": "1ebd0cfe",
   "metadata": {},
   "outputs": [],
   "source": [
    "print('General', len(np.nonzero((mask != 127.5).flatten())[0]))\n",
    "print('TTT', len(np.nonzero((np.logical_and(mask != 0, mask != 127.5)).flatten())[0]))\n",
    "print('Orig', len(np.nonzero((np.logical_and(mask != 255, mask != 127.5)).flatten())[0]))\n"
   ]
  },
  {
   "cell_type": "code",
   "execution_count": null,
   "id": "302bf9e7",
   "metadata": {},
   "outputs": [],
   "source": [
    "os.path.split(HR_images + 'a.ptxt')"
   ]
  },
  {
   "cell_type": "code",
   "execution_count": null,
   "id": "47fd99af",
   "metadata": {},
   "outputs": [],
   "source": []
  }
 ],
 "metadata": {
  "kernelspec": {
   "display_name": "Python 3 (ipykernel)",
   "language": "python",
   "name": "python3"
  },
  "language_info": {
   "codemirror_mode": {
    "name": "ipython",
    "version": 3
   },
   "file_extension": ".py",
   "mimetype": "text/x-python",
   "name": "python",
   "nbconvert_exporter": "python",
   "pygments_lexer": "ipython3",
   "version": "3.9.12"
  }
 },
 "nbformat": 4,
 "nbformat_minor": 5
}
